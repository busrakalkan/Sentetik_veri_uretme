{
 "cells": [
  {
   "cell_type": "markdown",
   "metadata": {},
   "source": [
    "150101055 Büşra Kalkan  \n",
    "Sentetik Veri Seti Üretimi Ve Regresyon Analizi"
   ]
  },
  {
   "cell_type": "markdown",
   "metadata": {},
   "source": [
    "Gerekli kütüphanelerin import edilmesi"
   ]
  },
  {
   "cell_type": "code",
   "execution_count": null,
   "metadata": {},
   "outputs": [],
   "source": [
    "from tkinter import *\n",
    "import tkinter\n",
    "import pandas as pd\n",
    "import numpy as np\n",
    "import csv\n",
    "import random\n",
    "from sklearn.linear_model import LinearRegression\n",
    "\n",
    "OPTIONS = [\n",
    "\"min-max\",\n",
    "\"z-score\"\n",
    "]"
   ]
  },
  {
   "cell_type": "markdown",
   "metadata": {},
   "source": [
    "Kullanıcı tarafından girilen değerlere göre veri üreten fonksiyonun  tanımlanması.\n",
    "Min-max veya z-score normalizasyonu yapıldıktan sonra bazı sutunlar null kalabiliyordu.\n",
    "Bu nedenden dolayı normalizasyondan sonra null kalan değerler 0 atandı."
   ]
  },
  {
   "cell_type": "code",
   "execution_count": null,
   "metadata": {},
   "outputs": [],
   "source": [
    "def hesapla(ornek_sayisi,sutun_sayisi,ara1,ara2,norm):\n",
    "    \n",
    "    #verilen aralıklarda istenen ornek ve feature kadar rastgele veri üretimi\n",
    "    a = [[0] * (sutun_sayisi) for i in range(ornek_sayisi+1)]\n",
    "    for i in range(ornek_sayisi+1):\n",
    "        for j in range(sutun_sayisi):\n",
    "            if i==0:\n",
    "                a[i][j]=j+1\n",
    "            else:\n",
    "                a[i][j] = random.randint(ara1,ara2)\n",
    "\n",
    "    with open('data.csv', 'w') as csvFile:\n",
    "        writer = csv.writer(csvFile)\n",
    "        writer.writerows(a)\n",
    "    csvFile.close()\n",
    "    \n",
    "    \n",
    "    #üretilen verinin normalizasyonu\n",
    "    df = pd.read_csv(\"data.csv\") \n",
    "\n",
    "    if norm==OPTIONS[0]:\n",
    "        #min-max normalizasyon\n",
    "        for i in range(sutun_sayisi):\n",
    "            df.iloc[:,i]=(df.iloc[:,i]-df.iloc[:,i].min())/(df.iloc[:,i].max()-df.iloc[:,i].min())\n",
    "    else:\n",
    "        #z-score normalizasyonu\n",
    "        for i in range(sutun_sayisi):\n",
    "            df.iloc[:,i]=(df.iloc[:,i]-df.iloc[:,i].mean())/df.iloc[:,i].std()\n",
    "            \n",
    "    #null atama işlemi        \n",
    "    df.apply(lambda c:c.fillna(1),axis=0)\n",
    "    \n",
    "    df.to_csv('data.csv',index=False)\n",
    "    \n",
    "    #veri setinin regresyon formülünün hesaplanması\n",
    "    X=df.drop(str(len(df.iloc[0])),axis=1)\n",
    "    Y=df[str(len(df.iloc[0]))]\n",
    "    lm=LinearRegression()\n",
    "    model=lm.fit(X,Y)\n",
    "    \n",
    "    #daha rahat anlaşılması için float olan katsayılar yuvarlanarak alındı\n",
    "    b0=round(float(model.intercept_),3)\n",
    "    y=b0\n",
    "    for i in range(len(X.iloc[0])):\n",
    "        if float(model.coef_[i])>0:\n",
    "            y=str(y)+\"+\"+str(round(float(model.coef_[i]),3))+\" x\"+str(i+1)\n",
    "        else:\n",
    "            y=str(y)+str(round(float(model.coef_[i]),3))+\" x\"+str(i+1)\n",
    "            \n",
    "    return y\n",
    "    \n",
    "\n"
   ]
  },
  {
   "cell_type": "markdown",
   "metadata": {},
   "source": [
    "Programın arayüz kısmı"
   ]
  },
  {
   "cell_type": "code",
   "execution_count": null,
   "metadata": {},
   "outputs": [],
   "source": [
    "def ekrana_bas():\n",
    "    ornek_info = ornek_sayisi.get()\n",
    "    veri_info = veri_sayisi.get()\n",
    "    ara1_info = ara1.get()\n",
    "    ara2_info = ara2.get()\n",
    "    norm_info = norm.get()\n",
    "    y=hesapla(ornek_info,veri_info,ara1_info,ara2_info,norm_info)\n",
    "    reg_for.config(text=y)\n",
    "    \n",
    "\n",
    "screen = tkinter.Tk()\n",
    "screen.geometry(\"300x350\")\n",
    "screen.title(\"Veri Üretimi\")\n",
    "heading = Label(text = \"Veri Üretimi\", bg = \"grey\", fg = \"black\", width = \"500\", height = \"3\")\n",
    "heading.pack()\n",
    " \n",
    "ornek_text = Label(text = \"Örnek Sayısı:\",)\n",
    "veri_text = Label(text = \"Veri Sayısı:\",)\n",
    "aralık_text = Label(text = \"Aralık:\",)\n",
    "reg_text = Label(text = \"Regresyon Formülü:\",)\n",
    "reg_for = Label(text = \"Formül:\",)\n",
    "norm_text = Label(text = \"Normalizasyon:\",)\n",
    "ornek_text.place(x = 15, y = 70)\n",
    "veri_text.place(x = 15, y = 100)\n",
    "aralık_text.place(x = 15, y = 130)\n",
    "reg_text.place(x = 15, y = 200)\n",
    "reg_for.place(x = 15, y = 220)\n",
    "norm_text.place(x = 15, y = 160)\n",
    "\n",
    "ornek_sayisi = IntVar()\n",
    "veri_sayisi = IntVar()\n",
    "ara1 = IntVar()\n",
    "ara2 = IntVar()\n",
    "#kor=StringVar()\n",
    "norm = StringVar(screen)\n",
    "\n",
    "\n",
    "ornek_entry = Entry(textvariable = ornek_sayisi, width = \"10\")\n",
    "veri_entry = Entry(textvariable = veri_sayisi, width = \"10\")\n",
    "ara1_entry = Entry(textvariable = ara1, width = \"10\")\n",
    "ara2_entry = Entry(textvariable = ara2, width = \"10\")\n",
    "#kor_entry = Entry(textvariable = kor, width = \"10\")\n",
    "norm.set(OPTIONS[0]) # default value\n",
    "drop_down = OptionMenu(screen, norm, *OPTIONS)\n",
    "\n",
    "ornek_entry.place(x = 145, y = 70)\n",
    "veri_entry.place(x = 145, y = 100)\n",
    "ara1_entry.place(x = 145, y = 130)\n",
    "ara2_entry.place(x = 225, y = 130)\n",
    "#kor_entry.place(x = 145, y = 160)\n",
    "drop_down.place(x=145,y=160)\n",
    "\n",
    "uret = Button(screen,text = \"Veri Üret\", width = \"30\", height = \"2\",command = ekrana_bas, bg = \"grey\")\n",
    "uret.place(x = 15, y = 290)\n",
    "\n",
    "screen.mainloop()"
   ]
  },
  {
   "cell_type": "code",
   "execution_count": null,
   "metadata": {},
   "outputs": [],
   "source": []
  }
 ],
 "metadata": {
  "kernelspec": {
   "display_name": "Python 3",
   "language": "python",
   "name": "python3"
  },
  "language_info": {
   "codemirror_mode": {
    "name": "ipython",
    "version": 3
   },
   "file_extension": ".py",
   "mimetype": "text/x-python",
   "name": "python",
   "nbconvert_exporter": "python",
   "pygments_lexer": "ipython3",
   "version": "3.7.6"
  }
 },
 "nbformat": 4,
 "nbformat_minor": 4
}
